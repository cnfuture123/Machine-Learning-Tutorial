{
 "cells": [
  {
   "cell_type": "markdown",
   "metadata": {},
   "source": [
    "# Ensemble Learning and Random Forests"
   ]
  },
  {
   "cell_type": "code",
   "execution_count": 1,
   "metadata": {},
   "outputs": [],
   "source": [
    "import numpy as np\n",
    "import pandas as pd\n",
    "import os\n",
    "import sys\n",
    "import matplotlib as mpl\n",
    "import matplotlib.pyplot as plt\n",
    "import warnings\n",
    "warnings.filterwarnings(action=\"ignore\", message=\"^internal gelsd\")"
   ]
  },
  {
   "cell_type": "code",
   "execution_count": 2,
   "metadata": {},
   "outputs": [],
   "source": [
    "# Where to save the figures\n",
    "PROJECT_ROOT_DIR = \".\"\n",
    "CHAPTER_ID = \"ensembles\"\n",
    "IMAGES_PATH = os.path.join(PROJECT_ROOT_DIR, \"images\", CHAPTER_ID)\n",
    "os.makedirs(IMAGES_PATH, exist_ok=True)\n",
    "\n",
    "def save_fig(fig_id, tight_layout=True, fig_extension=\"png\", resolution=300):\n",
    "    path = os.path.join(IMAGES_PATH, fig_id + \".\" + fig_extension)\n",
    "    print(\"Saving figure\", fig_id)\n",
    "    if tight_layout:\n",
    "        plt.tight_layout()\n",
    "    plt.savefig(path, format=fig_extension, dpi=resolution)"
   ]
  },
  {
   "cell_type": "markdown",
   "metadata": {},
   "source": [
    "## Voting Classifiers"
   ]
  },
  {
   "cell_type": "raw",
   "metadata": {},
   "source": [
    "Ensemble methods work best when the predictors are as independent from one another as possible. \n",
    "One way to get diverse classifiers is to train them using very different algorithms. "
   ]
  },
  {
   "cell_type": "code",
   "execution_count": 3,
   "metadata": {},
   "outputs": [],
   "source": [
    "from sklearn.model_selection import train_test_split\n",
    "from sklearn.datasets import make_moons\n",
    "\n",
    "X, y = make_moons(n_samples=500, noise=0.30, random_state=42)\n",
    "X_train, X_test, y_train, y_test = train_test_split(X, y, random_state=42)"
   ]
  },
  {
   "cell_type": "code",
   "execution_count": 4,
   "metadata": {},
   "outputs": [
    {
     "name": "stderr",
     "output_type": "stream",
     "text": [
      "D:\\Python_Tools\\Anaconda\\lib\\site-packages\\sklearn\\linear_model\\logistic.py:432: FutureWarning: Default solver will be changed to 'lbfgs' in 0.22. Specify a solver to silence this warning.\n",
      "  FutureWarning)\n",
      "D:\\Python_Tools\\Anaconda\\lib\\site-packages\\sklearn\\ensemble\\forest.py:245: FutureWarning: The default value of n_estimators will change from 10 in version 0.20 to 100 in 0.22.\n",
      "  \"10 in version 0.20 to 100 in 0.22.\", FutureWarning)\n",
      "D:\\Python_Tools\\Anaconda\\lib\\site-packages\\sklearn\\svm\\base.py:193: FutureWarning: The default value of gamma will change from 'auto' to 'scale' in version 0.22 to account better for unscaled features. Set gamma explicitly to 'auto' or 'scale' to avoid this warning.\n",
      "  \"avoid this warning.\", FutureWarning)\n"
     ]
    },
    {
     "data": {
      "text/plain": [
       "VotingClassifier(estimators=[('lr',\n",
       "                              LogisticRegression(C=1.0, class_weight=None,\n",
       "                                                 dual=False, fit_intercept=True,\n",
       "                                                 intercept_scaling=1,\n",
       "                                                 l1_ratio=None, max_iter=100,\n",
       "                                                 multi_class='warn',\n",
       "                                                 n_jobs=None, penalty='l2',\n",
       "                                                 random_state=None,\n",
       "                                                 solver='warn', tol=0.0001,\n",
       "                                                 verbose=0, warm_start=False)),\n",
       "                             ('rf',\n",
       "                              RandomForestClassifier(bootstrap=True,\n",
       "                                                     class_weight=None,\n",
       "                                                     criterion='gini',...\n",
       "                                                     oob_score=False,\n",
       "                                                     random_state=None,\n",
       "                                                     verbose=0,\n",
       "                                                     warm_start=False)),\n",
       "                             ('svc',\n",
       "                              SVC(C=1.0, cache_size=200, class_weight=None,\n",
       "                                  coef0=0.0, decision_function_shape='ovr',\n",
       "                                  degree=3, gamma='auto_deprecated',\n",
       "                                  kernel='rbf', max_iter=-1, probability=False,\n",
       "                                  random_state=None, shrinking=True, tol=0.001,\n",
       "                                  verbose=False))],\n",
       "                 flatten_transform=True, n_jobs=None, voting='hard',\n",
       "                 weights=None)"
      ]
     },
     "execution_count": 4,
     "metadata": {},
     "output_type": "execute_result"
    }
   ],
   "source": [
    "from sklearn.ensemble import RandomForestClassifier\n",
    "from sklearn.ensemble import VotingClassifier\n",
    "from sklearn.linear_model import LogisticRegression\n",
    "from sklearn.svm import SVC\n",
    "\n",
    "log_clf = LogisticRegression()\n",
    "rf_clf = RandomForestClassifier()\n",
    "svm_clf = SVC()\n",
    "\n",
    "vote_clf = VotingClassifier(\n",
    "    estimators=[('lr', log_clf), ('rf', rf_clf), ('svc', svm_clf)],\n",
    "    voting='hard'\n",
    ")\n",
    "\n",
    "vote_clf.fit(X_train, y_train)"
   ]
  },
  {
   "cell_type": "code",
   "execution_count": 5,
   "metadata": {},
   "outputs": [
    {
     "name": "stderr",
     "output_type": "stream",
     "text": [
      "D:\\Python_Tools\\Anaconda\\lib\\site-packages\\sklearn\\linear_model\\logistic.py:432: FutureWarning: Default solver will be changed to 'lbfgs' in 0.22. Specify a solver to silence this warning.\n",
      "  FutureWarning)\n"
     ]
    },
    {
     "name": "stdout",
     "output_type": "stream",
     "text": [
      "LogisticRegression 0.864\n",
      "RandomForestClassifier 0.896\n",
      "SVC 0.888\n"
     ]
    },
    {
     "name": "stderr",
     "output_type": "stream",
     "text": [
      "D:\\Python_Tools\\Anaconda\\lib\\site-packages\\sklearn\\ensemble\\forest.py:245: FutureWarning: The default value of n_estimators will change from 10 in version 0.20 to 100 in 0.22.\n",
      "  \"10 in version 0.20 to 100 in 0.22.\", FutureWarning)\n",
      "D:\\Python_Tools\\Anaconda\\lib\\site-packages\\sklearn\\svm\\base.py:193: FutureWarning: The default value of gamma will change from 'auto' to 'scale' in version 0.22 to account better for unscaled features. Set gamma explicitly to 'auto' or 'scale' to avoid this warning.\n",
      "  \"avoid this warning.\", FutureWarning)\n",
      "D:\\Python_Tools\\Anaconda\\lib\\site-packages\\sklearn\\linear_model\\logistic.py:432: FutureWarning: Default solver will be changed to 'lbfgs' in 0.22. Specify a solver to silence this warning.\n",
      "  FutureWarning)\n",
      "D:\\Python_Tools\\Anaconda\\lib\\site-packages\\sklearn\\svm\\base.py:193: FutureWarning: The default value of gamma will change from 'auto' to 'scale' in version 0.22 to account better for unscaled features. Set gamma explicitly to 'auto' or 'scale' to avoid this warning.\n",
      "  \"avoid this warning.\", FutureWarning)\n"
     ]
    },
    {
     "name": "stdout",
     "output_type": "stream",
     "text": [
      "VotingClassifier 0.888\n"
     ]
    }
   ],
   "source": [
    "from sklearn.metrics import accuracy_score\n",
    "\n",
    "for clf in (log_clf, rf_clf, svm_clf, vote_clf):\n",
    "    clf.fit(X_train, y_train)\n",
    "    y_pred = clf.predict(X_test)\n",
    "    print(clf.__class__.__name__, accuracy_score(y_test, y_pred))"
   ]
  },
  {
   "cell_type": "markdown",
   "metadata": {},
   "source": [
    "## Bagging and Pasting"
   ]
  },
  {
   "cell_type": "raw",
   "metadata": {},
   "source": [
    "One way to get a diverse set of classifiers is to use very different training algorithms,another approach is to use the same training algorithm for every\n",
    "predictor, but to train them on different random subsets of the training set.When sampling is performed with replacement, this method is called bagging1\n",
    "(short for bootstrap aggregating). When sampling is performed without replacement, it is called pasting."
   ]
  },
  {
   "cell_type": "code",
   "execution_count": 6,
   "metadata": {},
   "outputs": [],
   "source": [
    "from sklearn.ensemble import BaggingClassifier\n",
    "from sklearn.tree import DecisionTreeClassifier\n",
    "\n",
    "bag_clf = BaggingClassifier(\n",
    "    DecisionTreeClassifier(), n_estimators=100,\n",
    "    max_samples=100, bootstrap=True, n_jobs=1)\n",
    "\n",
    "bag_clf.fit(X_train, y_train)\n",
    "y_pred = bag_clf.predict(X_test)"
   ]
  },
  {
   "cell_type": "code",
   "execution_count": 7,
   "metadata": {},
   "outputs": [
    {
     "name": "stdout",
     "output_type": "stream",
     "text": [
      "0.904\n"
     ]
    }
   ],
   "source": [
    "print(accuracy_score(y_test, y_pred))"
   ]
  },
  {
   "cell_type": "markdown",
   "metadata": {},
   "source": [
    "### Out-of-Bag Evaluation"
   ]
  },
  {
   "cell_type": "raw",
   "metadata": {},
   "source": [
    "With bagging, some instances may be sampled several times for any given predictor, while others may not be sampled at all.\n",
    "This means that only about 63% of the training instances are sampled on average for each predictor.The remaining 37% of the training instances that are not sampled are called out-of-bag (oob) instances. Note that they are not the same 37% for all predictors.\n",
    "In Scikit-Learn, you can set oob_score=True when creating a BaggingClassifier to request an automatic oob evaluation after training."
   ]
  },
  {
   "cell_type": "code",
   "execution_count": 8,
   "metadata": {},
   "outputs": [
    {
     "data": {
      "text/plain": [
       "BaggingClassifier(base_estimator=DecisionTreeClassifier(class_weight=None,\n",
       "                                                        criterion='gini',\n",
       "                                                        max_depth=None,\n",
       "                                                        max_features=None,\n",
       "                                                        max_leaf_nodes=None,\n",
       "                                                        min_impurity_decrease=0.0,\n",
       "                                                        min_impurity_split=None,\n",
       "                                                        min_samples_leaf=1,\n",
       "                                                        min_samples_split=2,\n",
       "                                                        min_weight_fraction_leaf=0.0,\n",
       "                                                        presort=False,\n",
       "                                                        random_state=None,\n",
       "                                                        splitter='best'),\n",
       "                  bootstrap=True, bootstrap_features=False, max_features=1.0,\n",
       "                  max_samples=1.0, n_estimators=100, n_jobs=1, oob_score=True,\n",
       "                  random_state=None, verbose=0, warm_start=False)"
      ]
     },
     "execution_count": 8,
     "metadata": {},
     "output_type": "execute_result"
    }
   ],
   "source": [
    "bag_clf = BaggingClassifier(\n",
    "    DecisionTreeClassifier(), n_estimators=100,\n",
    "    bootstrap=True, n_jobs=1, oob_score=True)\n",
    "\n",
    "bag_clf.fit(X_train, y_train)"
   ]
  },
  {
   "cell_type": "code",
   "execution_count": 9,
   "metadata": {},
   "outputs": [
    {
     "data": {
      "text/plain": [
       "0.904"
      ]
     },
     "execution_count": 9,
     "metadata": {},
     "output_type": "execute_result"
    }
   ],
   "source": [
    "bag_clf.oob_score_"
   ]
  },
  {
   "cell_type": "code",
   "execution_count": 10,
   "metadata": {},
   "outputs": [
    {
     "data": {
      "text/plain": [
       "array([[0.44444444, 0.55555556],\n",
       "       [0.31428571, 0.68571429],\n",
       "       [1.        , 0.        ],\n",
       "       [0.        , 1.        ],\n",
       "       [0.        , 1.        ],\n",
       "       [0.07894737, 0.92105263],\n",
       "       [0.43902439, 0.56097561],\n",
       "       [0.        , 1.        ],\n",
       "       [1.        , 0.        ],\n",
       "       [0.97297297, 0.02702703],\n",
       "       [0.7       , 0.3       ],\n",
       "       [0.        , 1.        ],\n",
       "       [0.64705882, 0.35294118],\n",
       "       [0.90625   , 0.09375   ],\n",
       "       [0.97058824, 0.02941176],\n",
       "       [0.06818182, 0.93181818],\n",
       "       [0.        , 1.        ],\n",
       "       [0.97777778, 0.02222222],\n",
       "       [1.        , 0.        ],\n",
       "       [1.        , 0.        ],\n",
       "       [0.03125   , 0.96875   ],\n",
       "       [0.3       , 0.7       ],\n",
       "       [0.94594595, 0.05405405],\n",
       "       [1.        , 0.        ],\n",
       "       [0.94736842, 0.05263158],\n",
       "       [0.        , 1.        ],\n",
       "       [1.        , 0.        ],\n",
       "       [1.        , 0.        ],\n",
       "       [0.        , 1.        ],\n",
       "       [0.625     , 0.375     ],\n",
       "       [0.        , 1.        ],\n",
       "       [1.        , 0.        ],\n",
       "       [0.        , 1.        ],\n",
       "       [0.        , 1.        ],\n",
       "       [0.04651163, 0.95348837],\n",
       "       [1.        , 0.        ],\n",
       "       [0.        , 1.        ],\n",
       "       [0.52173913, 0.47826087],\n",
       "       [0.        , 1.        ],\n",
       "       [1.        , 0.        ],\n",
       "       [0.275     , 0.725     ],\n",
       "       [0.39473684, 0.60526316],\n",
       "       [1.        , 0.        ],\n",
       "       [1.        , 0.        ],\n",
       "       [0.        , 1.        ],\n",
       "       [1.        , 0.        ],\n",
       "       [1.        , 0.        ],\n",
       "       [0.05555556, 0.94444444],\n",
       "       [1.        , 0.        ],\n",
       "       [0.03030303, 0.96969697],\n",
       "       [0.97142857, 0.02857143],\n",
       "       [0.94117647, 0.05882353],\n",
       "       [0.9047619 , 0.0952381 ],\n",
       "       [0.91891892, 0.08108108],\n",
       "       [0.        , 1.        ],\n",
       "       [0.05714286, 0.94285714],\n",
       "       [0.97142857, 0.02857143],\n",
       "       [0.        , 1.        ],\n",
       "       [0.        , 1.        ],\n",
       "       [0.        , 1.        ],\n",
       "       [0.96774194, 0.03225806],\n",
       "       [0.79411765, 0.20588235],\n",
       "       [0.39393939, 0.60606061],\n",
       "       [1.        , 0.        ],\n",
       "       [0.        , 1.        ],\n",
       "       [0.69444444, 0.30555556],\n",
       "       [1.        , 0.        ],\n",
       "       [1.        , 0.        ],\n",
       "       [0.85714286, 0.14285714],\n",
       "       [1.        , 0.        ],\n",
       "       [0.60416667, 0.39583333],\n",
       "       [0.17391304, 0.82608696],\n",
       "       [0.65789474, 0.34210526],\n",
       "       [0.97674419, 0.02325581],\n",
       "       [0.        , 1.        ],\n",
       "       [0.09375   , 0.90625   ],\n",
       "       [0.87878788, 0.12121212],\n",
       "       [1.        , 0.        ],\n",
       "       [0.        , 1.        ],\n",
       "       [1.        , 0.        ],\n",
       "       [0.        , 1.        ],\n",
       "       [0.02439024, 0.97560976],\n",
       "       [0.02325581, 0.97674419],\n",
       "       [0.29411765, 0.70588235],\n",
       "       [1.        , 0.        ],\n",
       "       [0.        , 1.        ],\n",
       "       [0.85      , 0.15      ],\n",
       "       [0.        , 1.        ],\n",
       "       [0.        , 1.        ],\n",
       "       [0.        , 1.        ],\n",
       "       [0.2962963 , 0.7037037 ],\n",
       "       [1.        , 0.        ],\n",
       "       [0.        , 1.        ],\n",
       "       [0.        , 1.        ],\n",
       "       [0.        , 1.        ],\n",
       "       [0.95833333, 0.04166667],\n",
       "       [0.77777778, 0.22222222],\n",
       "       [0.        , 1.        ],\n",
       "       [1.        , 0.        ],\n",
       "       [0.10810811, 0.89189189],\n",
       "       [0.6       , 0.4       ],\n",
       "       [0.        , 1.        ],\n",
       "       [0.05      , 0.95      ],\n",
       "       [0.42857143, 0.57142857],\n",
       "       [1.        , 0.        ],\n",
       "       [0.        , 1.        ],\n",
       "       [1.        , 0.        ],\n",
       "       [0.29545455, 0.70454545],\n",
       "       [0.41176471, 0.58823529],\n",
       "       [1.        , 0.        ],\n",
       "       [0.        , 1.        ],\n",
       "       [1.        , 0.        ],\n",
       "       [0.23684211, 0.76315789],\n",
       "       [0.78947368, 0.21052632],\n",
       "       [1.        , 0.        ],\n",
       "       [1.        , 0.        ],\n",
       "       [0.        , 1.        ],\n",
       "       [0.        , 1.        ],\n",
       "       [0.83333333, 0.16666667],\n",
       "       [1.        , 0.        ],\n",
       "       [0.        , 1.        ],\n",
       "       [1.        , 0.        ],\n",
       "       [1.        , 0.        ],\n",
       "       [1.        , 0.        ],\n",
       "       [1.        , 0.        ],\n",
       "       [1.        , 0.        ],\n",
       "       [0.        , 1.        ],\n",
       "       [0.95555556, 0.04444444],\n",
       "       [1.        , 0.        ],\n",
       "       [0.        , 1.        ],\n",
       "       [0.23684211, 0.76315789],\n",
       "       [0.95652174, 0.04347826],\n",
       "       [0.43589744, 0.56410256],\n",
       "       [1.        , 0.        ],\n",
       "       [0.        , 1.        ],\n",
       "       [0.        , 1.        ],\n",
       "       [0.63888889, 0.36111111],\n",
       "       [0.58823529, 0.41176471],\n",
       "       [0.3030303 , 0.6969697 ],\n",
       "       [0.93939394, 0.06060606],\n",
       "       [0.92682927, 0.07317073],\n",
       "       [0.13157895, 0.86842105],\n",
       "       [0.81818182, 0.18181818],\n",
       "       [0.02439024, 0.97560976],\n",
       "       [0.        , 1.        ],\n",
       "       [0.        , 1.        ],\n",
       "       [0.94736842, 0.05263158],\n",
       "       [1.        , 0.        ],\n",
       "       [1.        , 0.        ],\n",
       "       [0.        , 1.        ],\n",
       "       [0.        , 1.        ],\n",
       "       [0.        , 1.        ],\n",
       "       [0.        , 1.        ],\n",
       "       [1.        , 0.        ],\n",
       "       [1.        , 0.        ],\n",
       "       [0.97435897, 0.02564103],\n",
       "       [1.        , 0.        ],\n",
       "       [1.        , 0.        ],\n",
       "       [1.        , 0.        ],\n",
       "       [0.        , 1.        ],\n",
       "       [0.3       , 0.7       ],\n",
       "       [0.30952381, 0.69047619],\n",
       "       [0.        , 1.        ],\n",
       "       [0.        , 1.        ],\n",
       "       [0.20930233, 0.79069767],\n",
       "       [1.        , 0.        ],\n",
       "       [1.        , 0.        ],\n",
       "       [0.        , 1.        ],\n",
       "       [1.        , 0.        ],\n",
       "       [0.        , 1.        ],\n",
       "       [0.        , 1.        ],\n",
       "       [1.        , 0.        ],\n",
       "       [0.        , 1.        ],\n",
       "       [0.        , 1.        ],\n",
       "       [1.        , 0.        ],\n",
       "       [0.        , 1.        ],\n",
       "       [0.76923077, 0.23076923],\n",
       "       [0.80645161, 0.19354839],\n",
       "       [0.        , 1.        ],\n",
       "       [1.        , 0.        ],\n",
       "       [1.        , 0.        ],\n",
       "       [1.        , 0.        ],\n",
       "       [0.        , 1.        ],\n",
       "       [0.        , 1.        ],\n",
       "       [1.        , 0.        ],\n",
       "       [0.04761905, 0.95238095],\n",
       "       [1.        , 0.        ],\n",
       "       [0.04651163, 0.95348837],\n",
       "       [0.        , 1.        ],\n",
       "       [1.        , 0.        ],\n",
       "       [0.        , 1.        ],\n",
       "       [0.        , 1.        ],\n",
       "       [1.        , 0.        ],\n",
       "       [0.96153846, 0.03846154],\n",
       "       [0.8372093 , 0.1627907 ],\n",
       "       [0.6       , 0.4       ],\n",
       "       [0.        , 1.        ],\n",
       "       [0.26470588, 0.73529412],\n",
       "       [1.        , 0.        ],\n",
       "       [0.95238095, 0.04761905],\n",
       "       [1.        , 0.        ],\n",
       "       [1.        , 0.        ],\n",
       "       [0.        , 1.        ],\n",
       "       [0.        , 1.        ],\n",
       "       [0.4516129 , 0.5483871 ],\n",
       "       [0.93181818, 0.06818182],\n",
       "       [0.        , 1.        ],\n",
       "       [0.        , 1.        ],\n",
       "       [1.        , 0.        ],\n",
       "       [0.02777778, 0.97222222],\n",
       "       [0.        , 1.        ],\n",
       "       [1.        , 0.        ],\n",
       "       [0.        , 1.        ],\n",
       "       [0.25      , 0.75      ],\n",
       "       [0.        , 1.        ],\n",
       "       [1.        , 0.        ],\n",
       "       [0.        , 1.        ],\n",
       "       [0.        , 1.        ],\n",
       "       [1.        , 0.        ],\n",
       "       [0.87179487, 0.12820513],\n",
       "       [1.        , 0.        ],\n",
       "       [0.        , 1.        ],\n",
       "       [0.07142857, 0.92857143],\n",
       "       [1.        , 0.        ],\n",
       "       [0.02631579, 0.97368421],\n",
       "       [0.        , 1.        ],\n",
       "       [0.02272727, 0.97727273],\n",
       "       [1.        , 0.        ],\n",
       "       [0.73333333, 0.26666667],\n",
       "       [0.        , 1.        ],\n",
       "       [0.82608696, 0.17391304],\n",
       "       [1.        , 0.        ],\n",
       "       [0.20588235, 0.79411765],\n",
       "       [0.19444444, 0.80555556],\n",
       "       [1.        , 0.        ],\n",
       "       [0.        , 1.        ],\n",
       "       [0.        , 1.        ],\n",
       "       [0.        , 1.        ],\n",
       "       [0.13793103, 0.86206897],\n",
       "       [0.95      , 0.05      ],\n",
       "       [0.        , 1.        ],\n",
       "       [1.        , 0.        ],\n",
       "       [0.97435897, 0.02564103],\n",
       "       [0.        , 1.        ],\n",
       "       [0.58536585, 0.41463415],\n",
       "       [1.        , 0.        ],\n",
       "       [0.        , 1.        ],\n",
       "       [1.        , 0.        ],\n",
       "       [0.        , 1.        ],\n",
       "       [0.        , 1.        ],\n",
       "       [0.09677419, 0.90322581],\n",
       "       [0.07692308, 0.92307692],\n",
       "       [0.95652174, 0.04347826],\n",
       "       [0.        , 1.        ],\n",
       "       [1.        , 0.        ],\n",
       "       [0.41025641, 0.58974359],\n",
       "       [0.08823529, 0.91176471],\n",
       "       [0.60606061, 0.39393939],\n",
       "       [0.64102564, 0.35897436],\n",
       "       [0.        , 1.        ],\n",
       "       [1.        , 0.        ],\n",
       "       [0.        , 1.        ],\n",
       "       [0.        , 1.        ],\n",
       "       [0.47727273, 0.52272727],\n",
       "       [0.        , 1.        ],\n",
       "       [1.        , 0.        ],\n",
       "       [0.25581395, 0.74418605],\n",
       "       [0.79487179, 0.20512821],\n",
       "       [0.075     , 0.925     ],\n",
       "       [1.        , 0.        ],\n",
       "       [0.80555556, 0.19444444],\n",
       "       [0.        , 1.        ],\n",
       "       [0.        , 1.        ],\n",
       "       [0.09090909, 0.90909091],\n",
       "       [0.025     , 0.975     ],\n",
       "       [0.        , 1.        ],\n",
       "       [0.97674419, 0.02325581],\n",
       "       [0.91489362, 0.08510638],\n",
       "       [0.04761905, 0.95238095],\n",
       "       [0.97058824, 0.02941176],\n",
       "       [0.        , 1.        ],\n",
       "       [0.64864865, 0.35135135],\n",
       "       [0.15384615, 0.84615385],\n",
       "       [0.97297297, 0.02702703],\n",
       "       [0.86206897, 0.13793103],\n",
       "       [0.        , 1.        ],\n",
       "       [1.        , 0.        ],\n",
       "       [0.94736842, 0.05263158],\n",
       "       [0.        , 1.        ],\n",
       "       [0.        , 1.        ],\n",
       "       [1.        , 0.        ],\n",
       "       [0.        , 1.        ],\n",
       "       [1.        , 0.        ],\n",
       "       [0.30555556, 0.69444444],\n",
       "       [1.        , 0.        ],\n",
       "       [1.        , 0.        ],\n",
       "       [0.        , 1.        ],\n",
       "       [0.        , 1.        ],\n",
       "       [0.76190476, 0.23809524],\n",
       "       [0.        , 1.        ],\n",
       "       [1.        , 0.        ],\n",
       "       [0.79310345, 0.20689655],\n",
       "       [0.97619048, 0.02380952],\n",
       "       [1.        , 0.        ],\n",
       "       [0.72972973, 0.27027027],\n",
       "       [0.44117647, 0.55882353],\n",
       "       [0.        , 1.        ],\n",
       "       [0.89473684, 0.10526316],\n",
       "       [0.        , 1.        ],\n",
       "       [1.        , 0.        ],\n",
       "       [0.80645161, 0.19354839],\n",
       "       [1.        , 0.        ],\n",
       "       [1.        , 0.        ],\n",
       "       [0.84210526, 0.15789474],\n",
       "       [0.07317073, 0.92682927],\n",
       "       [0.45714286, 0.54285714],\n",
       "       [0.30769231, 0.69230769],\n",
       "       [0.        , 1.        ],\n",
       "       [0.9       , 0.1       ],\n",
       "       [0.8       , 0.2       ],\n",
       "       [0.        , 1.        ],\n",
       "       [1.        , 0.        ],\n",
       "       [1.        , 0.        ],\n",
       "       [1.        , 0.        ],\n",
       "       [0.        , 1.        ],\n",
       "       [0.06060606, 0.93939394],\n",
       "       [0.89189189, 0.10810811],\n",
       "       [1.        , 0.        ],\n",
       "       [1.        , 0.        ],\n",
       "       [0.42857143, 0.57142857],\n",
       "       [1.        , 0.        ],\n",
       "       [0.        , 1.        ],\n",
       "       [1.        , 0.        ],\n",
       "       [0.02777778, 0.97222222],\n",
       "       [1.        , 0.        ],\n",
       "       [1.        , 0.        ],\n",
       "       [1.        , 0.        ],\n",
       "       [0.        , 1.        ],\n",
       "       [0.92105263, 0.07894737],\n",
       "       [0.        , 1.        ],\n",
       "       [0.02857143, 0.97142857],\n",
       "       [0.        , 1.        ],\n",
       "       [0.        , 1.        ],\n",
       "       [1.        , 0.        ],\n",
       "       [1.        , 0.        ],\n",
       "       [0.        , 1.        ],\n",
       "       [1.        , 0.        ],\n",
       "       [0.        , 1.        ],\n",
       "       [1.        , 0.        ],\n",
       "       [0.17391304, 0.82608696],\n",
       "       [0.        , 1.        ],\n",
       "       [0.        , 1.        ],\n",
       "       [0.        , 1.        ],\n",
       "       [0.33333333, 0.66666667],\n",
       "       [0.11111111, 0.88888889],\n",
       "       [0.19512195, 0.80487805],\n",
       "       [1.        , 0.        ],\n",
       "       [1.        , 0.        ],\n",
       "       [0.11428571, 0.88571429],\n",
       "       [0.96666667, 0.03333333],\n",
       "       [0.        , 1.        ],\n",
       "       [0.        , 1.        ],\n",
       "       [1.        , 0.        ],\n",
       "       [0.97560976, 0.02439024],\n",
       "       [0.14814815, 0.85185185],\n",
       "       [1.        , 0.        ],\n",
       "       [1.        , 0.        ],\n",
       "       [0.        , 1.        ],\n",
       "       [1.        , 0.        ],\n",
       "       [0.        , 1.        ],\n",
       "       [0.02631579, 0.97368421],\n",
       "       [0.97058824, 0.02941176],\n",
       "       [1.        , 0.        ],\n",
       "       [0.        , 1.        ],\n",
       "       [0.71794872, 0.28205128]])"
      ]
     },
     "execution_count": 10,
     "metadata": {},
     "output_type": "execute_result"
    }
   ],
   "source": [
    "bag_clf.oob_decision_function_"
   ]
  },
  {
   "cell_type": "markdown",
   "metadata": {},
   "source": [
    "### Random Patches and Random Subspaces"
   ]
  },
  {
   "cell_type": "raw",
   "metadata": {},
   "source": [
    "The BaggingClassifier class supports sampling the features as well. This is controlled by two hyperparameters: max_features and bootstrap_features. This is particularly useful when you are dealing with high-dimensional inputs (such as images). \n",
    "Sampling both training instances and features is called the Random Patches method. Keeping all training instances (i.e., bootstrap=False and max_samples=1.0) but sampling features (i.e., bootstrap_features=True and/or max_features smaller than 1.0) is called the Random Subspaces method."
   ]
  },
  {
   "cell_type": "markdown",
   "metadata": {},
   "source": [
    "### Random Forests"
   ]
  },
  {
   "cell_type": "raw",
   "metadata": {},
   "source": [
    "A Random Forest is an ensemble of Decision Trees, generally trained via the bagging method (or sometimes pasting), typically with max_samples set to the size of the training set. "
   ]
  },
  {
   "cell_type": "code",
   "execution_count": 11,
   "metadata": {},
   "outputs": [],
   "source": [
    "from sklearn.ensemble import RandomForestClassifier\n",
    "\n",
    "rf_clf = RandomForestClassifier(n_estimators=100, n_jobs=1)\n",
    "rf_clf.fit(X_train, y_train)\n",
    "\n",
    "y_pred_rf = rf_clf.predict(X_test)"
   ]
  },
  {
   "cell_type": "code",
   "execution_count": 12,
   "metadata": {},
   "outputs": [
    {
     "name": "stdout",
     "output_type": "stream",
     "text": [
      "0.904\n"
     ]
    }
   ],
   "source": [
    "print(accuracy_score(y_test, y_pred_rf))"
   ]
  },
  {
   "cell_type": "markdown",
   "metadata": {},
   "source": [
    "### Feature Importance"
   ]
  },
  {
   "cell_type": "code",
   "execution_count": 13,
   "metadata": {},
   "outputs": [
    {
     "name": "stdout",
     "output_type": "stream",
     "text": [
      "sepal length (cm) 0.11998048945616224\n",
      "sepal width (cm) 0.0235522922631684\n",
      "petal length (cm) 0.42368124069909996\n",
      "petal width (cm) 0.4327859775815694\n"
     ]
    }
   ],
   "source": [
    "from sklearn.datasets import load_iris\n",
    "\n",
    "iris = load_iris()\n",
    "rf_clf = RandomForestClassifier(n_estimators=100)\n",
    "rf_clf.fit(iris['data'], iris['target'])\n",
    "for name, score in zip(iris['feature_names'], rf_clf.feature_importances_):\n",
    "    print(name, score)"
   ]
  },
  {
   "cell_type": "raw",
   "metadata": {},
   "source": [
    "Random Forests are very handy to get a quick understanding of what features actually matter, in particular if you need to perform feature selection."
   ]
  },
  {
   "cell_type": "markdown",
   "metadata": {},
   "source": [
    "## Boosting"
   ]
  },
  {
   "cell_type": "raw",
   "metadata": {},
   "source": [
    "Boosting (originally called hypothesis boosting) refers to any Ensemble method that can combine several weak learners into a strong learner. The general idea of most boosting methods is to train predictors sequentially, each trying to correct its predecessor. "
   ]
  },
  {
   "cell_type": "markdown",
   "metadata": {},
   "source": [
    "### AdaBoost"
   ]
  },
  {
   "cell_type": "raw",
   "metadata": {},
   "source": [
    "One way for a new predictor to correct its predecessor is to pay a bit more attention to the training instances that the predecessor underfitted. This results in new predictors focusing more and more on the hard cases. This is the technique used by AdaBoost. Once all predictors are trained, the ensemble makes predictions very much like bagging or pasting, except that predictors have different weights depending on their overall accuracy on the weighted training set."
   ]
  },
  {
   "cell_type": "code",
   "execution_count": 14,
   "metadata": {},
   "outputs": [
    {
     "data": {
      "text/plain": [
       "AdaBoostClassifier(algorithm='SAMME.R',\n",
       "                   base_estimator=DecisionTreeClassifier(class_weight=None,\n",
       "                                                         criterion='gini',\n",
       "                                                         max_depth=1,\n",
       "                                                         max_features=None,\n",
       "                                                         max_leaf_nodes=None,\n",
       "                                                         min_impurity_decrease=0.0,\n",
       "                                                         min_impurity_split=None,\n",
       "                                                         min_samples_leaf=1,\n",
       "                                                         min_samples_split=2,\n",
       "                                                         min_weight_fraction_leaf=0.0,\n",
       "                                                         presort=False,\n",
       "                                                         random_state=None,\n",
       "                                                         splitter='best'),\n",
       "                   learning_rate=0.5, n_estimators=100, random_state=None)"
      ]
     },
     "execution_count": 14,
     "metadata": {},
     "output_type": "execute_result"
    }
   ],
   "source": [
    "from sklearn.ensemble import AdaBoostClassifier\n",
    "\n",
    "ada_clf = AdaBoostClassifier(\n",
    "    DecisionTreeClassifier(max_depth=1), n_estimators=100,\n",
    "    algorithm=\"SAMME.R\", learning_rate=0.5)\n",
    "ada_clf.fit(X_train, y_train)"
   ]
  },
  {
   "cell_type": "markdown",
   "metadata": {},
   "source": [
    "### Gradient Boosting"
   ]
  },
  {
   "cell_type": "raw",
   "metadata": {},
   "source": [
    "Just like AdaBoost, Gradient Boosting works by sequentially adding predictors to an ensemble, each one correcting its predecessor. However, instead of tweaking the instance weights at every iteration like AdaBoost does, this method tries to fit the new predictor to the residual\n",
    "errors made by the previous predictor."
   ]
  },
  {
   "cell_type": "code",
   "execution_count": 15,
   "metadata": {},
   "outputs": [
    {
     "data": {
      "text/plain": [
       "DecisionTreeRegressor(criterion='mse', max_depth=2, max_features=None,\n",
       "                      max_leaf_nodes=None, min_impurity_decrease=0.0,\n",
       "                      min_impurity_split=None, min_samples_leaf=1,\n",
       "                      min_samples_split=2, min_weight_fraction_leaf=0.0,\n",
       "                      presort=False, random_state=None, splitter='best')"
      ]
     },
     "execution_count": 15,
     "metadata": {},
     "output_type": "execute_result"
    }
   ],
   "source": [
    "from sklearn.tree import DecisionTreeRegressor\n",
    "tree_reg1 = DecisionTreeRegressor(max_depth=2)\n",
    "tree_reg1.fit(X, y)"
   ]
  },
  {
   "cell_type": "code",
   "execution_count": 16,
   "metadata": {},
   "outputs": [
    {
     "data": {
      "text/plain": [
       "DecisionTreeRegressor(criterion='mse', max_depth=2, max_features=None,\n",
       "                      max_leaf_nodes=None, min_impurity_decrease=0.0,\n",
       "                      min_impurity_split=None, min_samples_leaf=1,\n",
       "                      min_samples_split=2, min_weight_fraction_leaf=0.0,\n",
       "                      presort=False, random_state=None, splitter='best')"
      ]
     },
     "execution_count": 16,
     "metadata": {},
     "output_type": "execute_result"
    }
   ],
   "source": [
    "y2 = y - tree_reg1.predict(X)\n",
    "tree_reg2 = DecisionTreeRegressor(max_depth=2)\n",
    "tree_reg2.fit(X, y2)"
   ]
  },
  {
   "cell_type": "code",
   "execution_count": 17,
   "metadata": {},
   "outputs": [
    {
     "data": {
      "text/plain": [
       "DecisionTreeRegressor(criterion='mse', max_depth=2, max_features=None,\n",
       "                      max_leaf_nodes=None, min_impurity_decrease=0.0,\n",
       "                      min_impurity_split=None, min_samples_leaf=1,\n",
       "                      min_samples_split=2, min_weight_fraction_leaf=0.0,\n",
       "                      presort=False, random_state=None, splitter='best')"
      ]
     },
     "execution_count": 17,
     "metadata": {},
     "output_type": "execute_result"
    }
   ],
   "source": [
    "y3 = y2 - tree_reg2.predict(X)\n",
    "tree_reg3 = DecisionTreeRegressor(max_depth=2)\n",
    "tree_reg3.fit(X, y3)"
   ]
  },
  {
   "cell_type": "code",
   "execution_count": 18,
   "metadata": {},
   "outputs": [],
   "source": [
    "X_new = [[1.0, 1.0]]\n",
    "y_pred = sum(tree.predict(X_new) for tree in (tree_reg1, tree_reg2, tree_reg3))"
   ]
  },
  {
   "cell_type": "code",
   "execution_count": 19,
   "metadata": {},
   "outputs": [
    {
     "data": {
      "text/plain": [
       "array([-0.06976324])"
      ]
     },
     "execution_count": 19,
     "metadata": {},
     "output_type": "execute_result"
    }
   ],
   "source": [
    "y_pred"
   ]
  },
  {
   "cell_type": "code",
   "execution_count": 20,
   "metadata": {},
   "outputs": [
    {
     "data": {
      "text/plain": [
       "GradientBoostingRegressor(alpha=0.9, criterion='friedman_mse', init=None,\n",
       "                          learning_rate=0.5, loss='ls', max_depth=2,\n",
       "                          max_features=None, max_leaf_nodes=None,\n",
       "                          min_impurity_decrease=0.0, min_impurity_split=None,\n",
       "                          min_samples_leaf=1, min_samples_split=2,\n",
       "                          min_weight_fraction_leaf=0.0, n_estimators=3,\n",
       "                          n_iter_no_change=None, presort='auto',\n",
       "                          random_state=None, subsample=1.0, tol=0.0001,\n",
       "                          validation_fraction=0.1, verbose=0, warm_start=False)"
      ]
     },
     "execution_count": 20,
     "metadata": {},
     "output_type": "execute_result"
    }
   ],
   "source": [
    "from sklearn.ensemble import GradientBoostingRegressor\n",
    "\n",
    "gbrt = GradientBoostingRegressor(max_depth=2, n_estimators=3, learning_rate=0.5)\n",
    "\n",
    "gbrt.fit(X, y)"
   ]
  },
  {
   "cell_type": "code",
   "execution_count": 21,
   "metadata": {},
   "outputs": [
    {
     "data": {
      "text/plain": [
       "array([0.12847497])"
      ]
     },
     "execution_count": 21,
     "metadata": {},
     "output_type": "execute_result"
    }
   ],
   "source": [
    "y_pred = gbrt.predict(X_new)\n",
    "y_pred"
   ]
  },
  {
   "cell_type": "code",
   "execution_count": 22,
   "metadata": {},
   "outputs": [],
   "source": [
    "import numpy as np\n",
    "from sklearn.model_selection import train_test_split\n",
    "from sklearn.metrics import mean_squared_error\n",
    "\n",
    "X_train, X_val, y_train, y_val = train_test_split(X, y)\n",
    "gbrt = GradientBoostingRegressor(max_depth=2, n_estimators=100)\n",
    "gbrt.fit(X_train, y_train)\n",
    "\n",
    "errors = [mean_squared_error(y_val, y_pred) for y_pred in gbrt.staged_predict(X_val)]"
   ]
  },
  {
   "cell_type": "code",
   "execution_count": 23,
   "metadata": {},
   "outputs": [
    {
     "data": {
      "text/plain": [
       "99"
      ]
     },
     "execution_count": 23,
     "metadata": {},
     "output_type": "execute_result"
    }
   ],
   "source": [
    "bst_n_estimators = np.argmin(errors)\n",
    "bst_n_estimators"
   ]
  },
  {
   "cell_type": "code",
   "execution_count": 24,
   "metadata": {},
   "outputs": [
    {
     "data": {
      "text/plain": [
       "GradientBoostingRegressor(alpha=0.9, criterion='friedman_mse', init=None,\n",
       "                          learning_rate=0.1, loss='ls', max_depth=2,\n",
       "                          max_features=None, max_leaf_nodes=None,\n",
       "                          min_impurity_decrease=0.0, min_impurity_split=None,\n",
       "                          min_samples_leaf=1, min_samples_split=2,\n",
       "                          min_weight_fraction_leaf=0.0, n_estimators=99,\n",
       "                          n_iter_no_change=None, presort='auto',\n",
       "                          random_state=None, subsample=1.0, tol=0.0001,\n",
       "                          validation_fraction=0.1, verbose=0, warm_start=False)"
      ]
     },
     "execution_count": 24,
     "metadata": {},
     "output_type": "execute_result"
    }
   ],
   "source": [
    "gbrt_best = GradientBoostingRegressor(max_depth=2,n_estimators=bst_n_estimators)\n",
    "gbrt_best.fit(X_train, y_train)"
   ]
  },
  {
   "cell_type": "markdown",
   "metadata": {},
   "source": [
    "### Gradient Boosting with Early stopping"
   ]
  },
  {
   "cell_type": "code",
   "execution_count": 29,
   "metadata": {},
   "outputs": [
    {
     "name": "stdout",
     "output_type": "stream",
     "text": [
      "val_error: 0.22340700198332622\n",
      "min_val_error: 0.22340700198332622\n",
      "val_error: 0.2036321708414964\n",
      "min_val_error: 0.2036321708414964\n",
      "val_error: 0.18596102175234563\n",
      "min_val_error: 0.18596102175234563\n",
      "val_error: 0.1696815289160173\n",
      "min_val_error: 0.1696815289160173\n",
      "val_error: 0.15822251980341417\n",
      "min_val_error: 0.15822251980341417\n",
      "val_error: 0.14782873185813092\n",
      "min_val_error: 0.14782873185813092\n",
      "val_error: 0.14043296770139369\n",
      "min_val_error: 0.14043296770139369\n",
      "val_error: 0.13329973258151265\n",
      "min_val_error: 0.13329973258151265\n",
      "val_error: 0.12865328342687699\n",
      "min_val_error: 0.12865328342687699\n",
      "val_error: 0.12510663794624655\n",
      "min_val_error: 0.12510663794624655\n",
      "val_error: 0.12154125616671597\n",
      "min_val_error: 0.12154125616671597\n",
      "val_error: 0.11851839662111961\n",
      "min_val_error: 0.11851839662111961\n",
      "val_error: 0.1154625719587279\n",
      "min_val_error: 0.1154625719587279\n",
      "val_error: 0.11375135849519084\n",
      "min_val_error: 0.11375135849519084\n",
      "val_error: 0.11168942324013575\n",
      "min_val_error: 0.11168942324013575\n",
      "val_error: 0.11044494634460773\n",
      "min_val_error: 0.11044494634460773\n",
      "val_error: 0.10907463378747145\n",
      "min_val_error: 0.10907463378747145\n",
      "val_error: 0.10843486745730593\n",
      "min_val_error: 0.10843486745730593\n",
      "val_error: 0.10800585428227696\n",
      "min_val_error: 0.10800585428227696\n",
      "val_error: 0.1070913255820923\n",
      "min_val_error: 0.1070913255820923\n",
      "val_error: 0.10675787113768002\n",
      "min_val_error: 0.10675787113768002\n",
      "val_error: 0.10658328985123265\n",
      "min_val_error: 0.10658328985123265\n",
      "val_error: 0.10645180587055796\n",
      "min_val_error: 0.10645180587055796\n",
      "val_error: 0.1053272515142964\n",
      "min_val_error: 0.1053272515142964\n",
      "val_error: 0.10520969144603\n",
      "min_val_error: 0.10520969144603\n",
      "val_error: 0.10455337730994453\n",
      "min_val_error: 0.10455337730994453\n",
      "val_error: 0.10457101390506193\n",
      "min_val_error: 0.10455337730994453\n",
      "val_error: 0.1033624574136822\n",
      "min_val_error: 0.1033624574136822\n",
      "val_error: 0.10284378886039366\n",
      "min_val_error: 0.10284378886039366\n",
      "val_error: 0.10284763116709394\n",
      "min_val_error: 0.10284378886039366\n",
      "val_error: 0.10183603722353127\n",
      "min_val_error: 0.10183603722353127\n",
      "val_error: 0.10101379985917232\n",
      "min_val_error: 0.10101379985917232\n",
      "val_error: 0.1006925420399837\n",
      "min_val_error: 0.1006925420399837\n",
      "val_error: 0.10066920203852492\n",
      "min_val_error: 0.10066920203852492\n",
      "val_error: 0.09989288664554104\n",
      "min_val_error: 0.09989288664554104\n",
      "val_error: 0.09994336300204729\n",
      "min_val_error: 0.09989288664554104\n",
      "val_error: 0.09967208037626893\n",
      "min_val_error: 0.09967208037626893\n",
      "val_error: 0.09967255052593234\n",
      "min_val_error: 0.09967208037626893\n",
      "val_error: 0.09907254108953786\n",
      "min_val_error: 0.09907254108953786\n",
      "val_error: 0.09908992104291352\n",
      "min_val_error: 0.09907254108953786\n",
      "val_error: 0.09876518887357462\n",
      "min_val_error: 0.09876518887357462\n",
      "val_error: 0.09804709800150595\n",
      "min_val_error: 0.09804709800150595\n",
      "val_error: 0.09749338712360092\n",
      "min_val_error: 0.09749338712360092\n",
      "val_error: 0.09761857612691789\n",
      "min_val_error: 0.09749338712360092\n",
      "val_error: 0.09711501613687924\n",
      "min_val_error: 0.09711501613687924\n",
      "val_error: 0.09715456006225179\n",
      "min_val_error: 0.09711501613687924\n",
      "val_error: 0.09697113548837188\n",
      "min_val_error: 0.09697113548837188\n",
      "val_error: 0.09711970668012353\n",
      "min_val_error: 0.09697113548837188\n",
      "val_error: 0.09653782292788063\n",
      "min_val_error: 0.09653782292788063\n",
      "val_error: 0.09625831285059783\n",
      "min_val_error: 0.09625831285059783\n",
      "val_error: 0.09615135254857966\n",
      "min_val_error: 0.09615135254857966\n",
      "val_error: 0.09618121710109565\n",
      "min_val_error: 0.09615135254857966\n",
      "val_error: 0.09627197202841806\n",
      "min_val_error: 0.09615135254857966\n",
      "val_error: 0.09627795538707018\n",
      "min_val_error: 0.09615135254857966\n",
      "val_error: 0.0958596987489461\n",
      "min_val_error: 0.0958596987489461\n",
      "val_error: 0.09549527617246316\n",
      "min_val_error: 0.09549527617246316\n",
      "val_error: 0.09526903713272826\n",
      "min_val_error: 0.09526903713272826\n",
      "val_error: 0.09516095249654678\n",
      "min_val_error: 0.09516095249654678\n",
      "val_error: 0.09517530724748427\n",
      "min_val_error: 0.09516095249654678\n",
      "val_error: 0.09472272265854637\n",
      "min_val_error: 0.09472272265854637\n",
      "val_error: 0.09439036948955146\n",
      "min_val_error: 0.09439036948955146\n",
      "val_error: 0.09440755908487064\n",
      "min_val_error: 0.09439036948955146\n",
      "val_error: 0.09443820734874579\n",
      "min_val_error: 0.09439036948955146\n",
      "val_error: 0.09435556288861034\n",
      "min_val_error: 0.09435556288861034\n",
      "val_error: 0.09439129521397337\n",
      "min_val_error: 0.09435556288861034\n",
      "val_error: 0.0940884735856372\n",
      "min_val_error: 0.0940884735856372\n",
      "val_error: 0.0938059338077942\n",
      "min_val_error: 0.0938059338077942\n",
      "val_error: 0.09356224377749739\n",
      "min_val_error: 0.09356224377749739\n",
      "val_error: 0.09359116954416846\n",
      "min_val_error: 0.09356224377749739\n",
      "val_error: 0.09338654905825382\n",
      "min_val_error: 0.09338654905825382\n",
      "val_error: 0.09336556690305432\n",
      "min_val_error: 0.09336556690305432\n",
      "val_error: 0.09335956310972884\n",
      "min_val_error: 0.09335956310972884\n",
      "val_error: 0.09336197475592696\n",
      "min_val_error: 0.09335956310972884\n",
      "val_error: 0.09309008524279866\n",
      "min_val_error: 0.09309008524279866\n",
      "val_error: 0.0928445376526353\n",
      "min_val_error: 0.0928445376526353\n",
      "val_error: 0.09287498576568273\n",
      "min_val_error: 0.0928445376526353\n",
      "val_error: 0.09290478787481005\n",
      "min_val_error: 0.0928445376526353\n",
      "val_error: 0.09290740222267913\n",
      "min_val_error: 0.0928445376526353\n",
      "val_error: 0.09276941650529666\n",
      "min_val_error: 0.09276941650529666\n",
      "val_error: 0.0924395923705776\n",
      "min_val_error: 0.0924395923705776\n",
      "val_error: 0.0922407888867766\n",
      "min_val_error: 0.0922407888867766\n",
      "val_error: 0.09228125166280224\n",
      "min_val_error: 0.0922407888867766\n",
      "val_error: 0.09230395606902214\n",
      "min_val_error: 0.0922407888867766\n",
      "val_error: 0.09213939846517015\n",
      "min_val_error: 0.09213939846517015\n",
      "val_error: 0.09198369258984342\n",
      "min_val_error: 0.09198369258984342\n",
      "val_error: 0.09234649165686508\n",
      "min_val_error: 0.09198369258984342\n",
      "val_error: 0.09236366044214943\n",
      "min_val_error: 0.09198369258984342\n",
      "val_error: 0.09238986440281462\n",
      "min_val_error: 0.09198369258984342\n",
      "val_error: 0.09217742610337118\n",
      "min_val_error: 0.09198369258984342\n"
     ]
    }
   ],
   "source": [
    "gbrt = GradientBoostingRegressor(max_depth=2, warm_start=True)\n",
    "\n",
    "min_val_error = float(\"inf\")\n",
    "counts = 0\n",
    "\n",
    "for n_estimators in range(1, 100):\n",
    "    gbrt.n_estimators = n_estimators\n",
    "    gbrt.fit(X_train, y_train)\n",
    "    y_pred = gbrt.predict(X_val)\n",
    "    val_error = mean_squared_error(y_val, y_pred)\n",
    "    if val_error < min_val_error:\n",
    "        min_val_error = val_error\n",
    "        counts = 0\n",
    "    else:\n",
    "        counts += 1\n",
    "        if counts == 5:\n",
    "            break \n",
    "    \n",
    "    print(\"val_error: \" + str(val_error))\n",
    "    print(\"min_val_error: \" + str(min_val_error))"
   ]
  },
  {
   "cell_type": "code",
   "execution_count": 30,
   "metadata": {},
   "outputs": [
    {
     "name": "stdout",
     "output_type": "stream",
     "text": [
      "90\n"
     ]
    }
   ],
   "source": [
    "print(gbrt.n_estimators)"
   ]
  },
  {
   "cell_type": "markdown",
   "metadata": {},
   "source": [
    "### XGBoost"
   ]
  },
  {
   "cell_type": "code",
   "execution_count": 31,
   "metadata": {},
   "outputs": [
    {
     "name": "stdout",
     "output_type": "stream",
     "text": [
      "[21:17:57] WARNING: C:/Jenkins/workspace/xgboost-win64_release_0.90/src/objective/regression_obj.cu:152: reg:linear is now deprecated in favor of reg:squarederror.\n"
     ]
    }
   ],
   "source": [
    "import xgboost\n",
    "\n",
    "xgb_reg = xgboost.XGBRegressor()\n",
    "xgb_reg.fit(X_train, y_train)\n",
    "y_pred = xgb_reg.predict(X_val)"
   ]
  },
  {
   "cell_type": "code",
   "execution_count": 32,
   "metadata": {},
   "outputs": [
    {
     "name": "stdout",
     "output_type": "stream",
     "text": [
      "Validation MSE: 0.08709488633790002\n"
     ]
    }
   ],
   "source": [
    "val_error = mean_squared_error(y_val, y_pred)  \n",
    "print(\"Validation MSE:\", val_error)            "
   ]
  },
  {
   "cell_type": "code",
   "execution_count": 33,
   "metadata": {},
   "outputs": [
    {
     "name": "stdout",
     "output_type": "stream",
     "text": [
      "[21:23:01] WARNING: C:/Jenkins/workspace/xgboost-win64_release_0.90/src/objective/regression_obj.cu:152: reg:linear is now deprecated in favor of reg:squarederror.\n",
      "[0]\tvalidation_0-rmse:0.470071\n",
      "Will train until validation_0-rmse hasn't improved in 2 rounds.\n",
      "[1]\tvalidation_0-rmse:0.445553\n",
      "[2]\tvalidation_0-rmse:0.424527\n",
      "[3]\tvalidation_0-rmse:0.407965\n",
      "[4]\tvalidation_0-rmse:0.393249\n",
      "[5]\tvalidation_0-rmse:0.380531\n",
      "[6]\tvalidation_0-rmse:0.369269\n",
      "[7]\tvalidation_0-rmse:0.361155\n",
      "[8]\tvalidation_0-rmse:0.354309\n",
      "[9]\tvalidation_0-rmse:0.347102\n",
      "[10]\tvalidation_0-rmse:0.342713\n",
      "[11]\tvalidation_0-rmse:0.338155\n",
      "[12]\tvalidation_0-rmse:0.335353\n",
      "[13]\tvalidation_0-rmse:0.333245\n",
      "[14]\tvalidation_0-rmse:0.329633\n",
      "[15]\tvalidation_0-rmse:0.32665\n",
      "[16]\tvalidation_0-rmse:0.323241\n",
      "[17]\tvalidation_0-rmse:0.320853\n",
      "[18]\tvalidation_0-rmse:0.31708\n",
      "[19]\tvalidation_0-rmse:0.315281\n",
      "[20]\tvalidation_0-rmse:0.312343\n",
      "[21]\tvalidation_0-rmse:0.310571\n",
      "[22]\tvalidation_0-rmse:0.308462\n",
      "[23]\tvalidation_0-rmse:0.306253\n",
      "[24]\tvalidation_0-rmse:0.304722\n",
      "[25]\tvalidation_0-rmse:0.303391\n",
      "[26]\tvalidation_0-rmse:0.30327\n",
      "[27]\tvalidation_0-rmse:0.302164\n",
      "[28]\tvalidation_0-rmse:0.302163\n",
      "[29]\tvalidation_0-rmse:0.301404\n",
      "[30]\tvalidation_0-rmse:0.301484\n",
      "[31]\tvalidation_0-rmse:0.301354\n",
      "[32]\tvalidation_0-rmse:0.300517\n",
      "[33]\tvalidation_0-rmse:0.299779\n",
      "[34]\tvalidation_0-rmse:0.2995\n",
      "[35]\tvalidation_0-rmse:0.298793\n",
      "[36]\tvalidation_0-rmse:0.298459\n",
      "[37]\tvalidation_0-rmse:0.297921\n",
      "[38]\tvalidation_0-rmse:0.298082\n",
      "[39]\tvalidation_0-rmse:0.297771\n",
      "[40]\tvalidation_0-rmse:0.297264\n",
      "[41]\tvalidation_0-rmse:0.297059\n",
      "[42]\tvalidation_0-rmse:0.29778\n",
      "[43]\tvalidation_0-rmse:0.298533\n",
      "Stopping. Best iteration:\n",
      "[41]\tvalidation_0-rmse:0.297059\n",
      "\n"
     ]
    }
   ],
   "source": [
    "xgb_early_stopping = xgboost.XGBRegressor()\n",
    "xgb_early_stopping.fit(X_train, y_train, eval_set=[(X_val, y_val)], early_stopping_rounds=2)\n",
    "y_prediction = xgb_early_stopping.predict(X_val)"
   ]
  },
  {
   "cell_type": "markdown",
   "metadata": {},
   "source": [
    "## Stacking"
   ]
  },
  {
   "cell_type": "raw",
   "metadata": {},
   "source": [
    "It is based on a simple idea: instead of using trivial functions(such as hard voting) to aggregate the predictions of all predictors in an ensemble, why don’t we train a model to perform this aggregation."
   ]
  },
  {
   "attachments": {
    "Fig-7-12.PNG": {
     "image/png": "[encoded data removed]"
    }
   },
   "cell_type": "markdown",
   "metadata": {},
   "source": [
    "![Fig-7-12.PNG](attachment:Fig-7-12.PNG)"
   ]
  }
 ],
 "metadata": {
  "kernelspec": {
   "display_name": "Python 3",
   "language": "python",
   "name": "python3"
  },
  "language_info": {
   "codemirror_mode": {
    "name": "ipython",
    "version": 3
   },
   "file_extension": ".py",
   "mimetype": "text/x-python",
   "name": "python",
   "nbconvert_exporter": "python",
   "pygments_lexer": "ipython3",
   "version": "3.7.3"
  }
 },
 "nbformat": 4,
 "nbformat_minor": 2
}
